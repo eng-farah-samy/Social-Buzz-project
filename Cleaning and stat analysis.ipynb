{
 "cells": [
  {
   "cell_type": "code",
   "execution_count": 1,
   "id": "fb8aa794-fde2-4b4b-a42e-828d7ce2af95",
   "metadata": {
    "tags": []
   },
   "outputs": [],
   "source": [
    "import pandas as pd\n",
    "import numpy as np\n",
    "import matplotlib.pyplot as plt\n",
    "import seaborn as sns"
   ]
  },
  {
   "cell_type": "markdown",
   "id": "ccccaa1e-37f3-466a-b671-2708f0c0a0f8",
   "metadata": {},
   "source": [
    "# load our Dataset into a Python DataFrame"
   ]
  },
  {
   "cell_type": "code",
   "execution_count": 2,
   "id": "f319ec8b-d605-4d1c-9c02-b45daff6290b",
   "metadata": {
    "tags": []
   },
   "outputs": [],
   "source": [
    "Contents_path =\"Data/Content.csv\"\n",
    "Reaction_path =\"Data/Reactions.csv\"\n",
    "Reactiontype_path =\"Data/ReactionTypes.csv\"\n",
    "content_db = pd.read_csv(Contents_path)\n",
    "reaction_db = pd.read_csv(Reaction_path)\n",
    "reactiontype_db = pd.read_csv(Reactiontype_path)"
   ]
  },
  {
   "cell_type": "markdown",
   "id": "4e39a607-30c8-4a44-8942-a1be1ad1bb6c",
   "metadata": {
    "tags": []
   },
   "source": [
    "# View our Dataset"
   ]
  },
  {
   "cell_type": "code",
   "execution_count": 3,
   "id": "94ab045c-4108-4db1-9a24-5d31c0d46f08",
   "metadata": {
    "tags": []
   },
   "outputs": [
    {
     "data": {
      "text/html": [
       "<div>\n",
       "<style scoped>\n",
       "    .dataframe tbody tr th:only-of-type {\n",
       "        vertical-align: middle;\n",
       "    }\n",
       "\n",
       "    .dataframe tbody tr th {\n",
       "        vertical-align: top;\n",
       "    }\n",
       "\n",
       "    .dataframe thead th {\n",
       "        text-align: right;\n",
       "    }\n",
       "</style>\n",
       "<table border=\"1\" class=\"dataframe\">\n",
       "  <thead>\n",
       "    <tr style=\"text-align: right;\">\n",
       "      <th></th>\n",
       "      <th>Unnamed: 0</th>\n",
       "      <th>Content ID</th>\n",
       "      <th>User ID</th>\n",
       "      <th>Type</th>\n",
       "      <th>Category</th>\n",
       "      <th>URL</th>\n",
       "    </tr>\n",
       "  </thead>\n",
       "  <tbody>\n",
       "    <tr>\n",
       "      <th>0</th>\n",
       "      <td>0</td>\n",
       "      <td>97522e57-d9ab-4bd6-97bf-c24d952602d2</td>\n",
       "      <td>8d3cd87d-8a31-4935-9a4f-b319bfe05f31</td>\n",
       "      <td>photo</td>\n",
       "      <td>Studying</td>\n",
       "      <td>https://socialbuzz.cdn.com/content/storage/975...</td>\n",
       "    </tr>\n",
       "    <tr>\n",
       "      <th>1</th>\n",
       "      <td>1</td>\n",
       "      <td>9f737e0a-3cdd-4d29-9d24-753f4e3be810</td>\n",
       "      <td>beb1f34e-7870-46d6-9fc7-2e12eb83ce43</td>\n",
       "      <td>photo</td>\n",
       "      <td>healthy eating</td>\n",
       "      <td>https://socialbuzz.cdn.com/content/storage/9f7...</td>\n",
       "    </tr>\n",
       "    <tr>\n",
       "      <th>2</th>\n",
       "      <td>2</td>\n",
       "      <td>230c4e4d-70c3-461d-b42c-ec09396efb3f</td>\n",
       "      <td>a5c65404-5894-4b87-82f2-d787cbee86b4</td>\n",
       "      <td>photo</td>\n",
       "      <td>healthy eating</td>\n",
       "      <td>https://socialbuzz.cdn.com/content/storage/230...</td>\n",
       "    </tr>\n",
       "    <tr>\n",
       "      <th>3</th>\n",
       "      <td>3</td>\n",
       "      <td>356fff80-da4d-4785-9f43-bc1261031dc6</td>\n",
       "      <td>9fb4ce88-fac1-406c-8544-1a899cee7aaf</td>\n",
       "      <td>photo</td>\n",
       "      <td>technology</td>\n",
       "      <td>https://socialbuzz.cdn.com/content/storage/356...</td>\n",
       "    </tr>\n",
       "    <tr>\n",
       "      <th>4</th>\n",
       "      <td>4</td>\n",
       "      <td>01ab84dd-6364-4236-abbb-3f237db77180</td>\n",
       "      <td>e206e31b-5f85-4964-b6ea-d7ee5324def1</td>\n",
       "      <td>video</td>\n",
       "      <td>food</td>\n",
       "      <td>https://socialbuzz.cdn.com/content/storage/01a...</td>\n",
       "    </tr>\n",
       "  </tbody>\n",
       "</table>\n",
       "</div>"
      ],
      "text/plain": [
       "   Unnamed: 0                            Content ID   \n",
       "0           0  97522e57-d9ab-4bd6-97bf-c24d952602d2  \\\n",
       "1           1  9f737e0a-3cdd-4d29-9d24-753f4e3be810   \n",
       "2           2  230c4e4d-70c3-461d-b42c-ec09396efb3f   \n",
       "3           3  356fff80-da4d-4785-9f43-bc1261031dc6   \n",
       "4           4  01ab84dd-6364-4236-abbb-3f237db77180   \n",
       "\n",
       "                                User ID   Type        Category   \n",
       "0  8d3cd87d-8a31-4935-9a4f-b319bfe05f31  photo        Studying  \\\n",
       "1  beb1f34e-7870-46d6-9fc7-2e12eb83ce43  photo  healthy eating   \n",
       "2  a5c65404-5894-4b87-82f2-d787cbee86b4  photo  healthy eating   \n",
       "3  9fb4ce88-fac1-406c-8544-1a899cee7aaf  photo      technology   \n",
       "4  e206e31b-5f85-4964-b6ea-d7ee5324def1  video            food   \n",
       "\n",
       "                                                 URL  \n",
       "0  https://socialbuzz.cdn.com/content/storage/975...  \n",
       "1  https://socialbuzz.cdn.com/content/storage/9f7...  \n",
       "2  https://socialbuzz.cdn.com/content/storage/230...  \n",
       "3  https://socialbuzz.cdn.com/content/storage/356...  \n",
       "4  https://socialbuzz.cdn.com/content/storage/01a...  "
      ]
     },
     "execution_count": 3,
     "metadata": {},
     "output_type": "execute_result"
    }
   ],
   "source": [
    "content_db.head()"
   ]
  },
  {
   "cell_type": "code",
   "execution_count": 4,
   "id": "b675e42b-79d8-4478-8714-466b1d1e79bd",
   "metadata": {
    "tags": []
   },
   "outputs": [
    {
     "data": {
      "text/html": [
       "<div>\n",
       "<style scoped>\n",
       "    .dataframe tbody tr th:only-of-type {\n",
       "        vertical-align: middle;\n",
       "    }\n",
       "\n",
       "    .dataframe tbody tr th {\n",
       "        vertical-align: top;\n",
       "    }\n",
       "\n",
       "    .dataframe thead th {\n",
       "        text-align: right;\n",
       "    }\n",
       "</style>\n",
       "<table border=\"1\" class=\"dataframe\">\n",
       "  <thead>\n",
       "    <tr style=\"text-align: right;\">\n",
       "      <th></th>\n",
       "      <th>Unnamed: 0</th>\n",
       "      <th>Content ID</th>\n",
       "      <th>User ID</th>\n",
       "      <th>Type</th>\n",
       "      <th>Datetime</th>\n",
       "    </tr>\n",
       "  </thead>\n",
       "  <tbody>\n",
       "    <tr>\n",
       "      <th>0</th>\n",
       "      <td>0</td>\n",
       "      <td>97522e57-d9ab-4bd6-97bf-c24d952602d2</td>\n",
       "      <td>NaN</td>\n",
       "      <td>NaN</td>\n",
       "      <td>2021-04-22 15:17:15</td>\n",
       "    </tr>\n",
       "    <tr>\n",
       "      <th>1</th>\n",
       "      <td>1</td>\n",
       "      <td>97522e57-d9ab-4bd6-97bf-c24d952602d2</td>\n",
       "      <td>5d454588-283d-459d-915d-c48a2cb4c27f</td>\n",
       "      <td>disgust</td>\n",
       "      <td>2020-11-07 09:43:50</td>\n",
       "    </tr>\n",
       "    <tr>\n",
       "      <th>2</th>\n",
       "      <td>2</td>\n",
       "      <td>97522e57-d9ab-4bd6-97bf-c24d952602d2</td>\n",
       "      <td>92b87fa5-f271-43e0-af66-84fac21052e6</td>\n",
       "      <td>dislike</td>\n",
       "      <td>2021-06-17 12:22:51</td>\n",
       "    </tr>\n",
       "    <tr>\n",
       "      <th>3</th>\n",
       "      <td>3</td>\n",
       "      <td>97522e57-d9ab-4bd6-97bf-c24d952602d2</td>\n",
       "      <td>163daa38-8b77-48c9-9af6-37a6c1447ac2</td>\n",
       "      <td>scared</td>\n",
       "      <td>2021-04-18 05:13:58</td>\n",
       "    </tr>\n",
       "    <tr>\n",
       "      <th>4</th>\n",
       "      <td>4</td>\n",
       "      <td>97522e57-d9ab-4bd6-97bf-c24d952602d2</td>\n",
       "      <td>34e8add9-0206-47fd-a501-037b994650a2</td>\n",
       "      <td>disgust</td>\n",
       "      <td>2021-01-06 19:13:01</td>\n",
       "    </tr>\n",
       "  </tbody>\n",
       "</table>\n",
       "</div>"
      ],
      "text/plain": [
       "   Unnamed: 0                            Content ID   \n",
       "0           0  97522e57-d9ab-4bd6-97bf-c24d952602d2  \\\n",
       "1           1  97522e57-d9ab-4bd6-97bf-c24d952602d2   \n",
       "2           2  97522e57-d9ab-4bd6-97bf-c24d952602d2   \n",
       "3           3  97522e57-d9ab-4bd6-97bf-c24d952602d2   \n",
       "4           4  97522e57-d9ab-4bd6-97bf-c24d952602d2   \n",
       "\n",
       "                                User ID     Type             Datetime  \n",
       "0                                   NaN      NaN  2021-04-22 15:17:15  \n",
       "1  5d454588-283d-459d-915d-c48a2cb4c27f  disgust  2020-11-07 09:43:50  \n",
       "2  92b87fa5-f271-43e0-af66-84fac21052e6  dislike  2021-06-17 12:22:51  \n",
       "3  163daa38-8b77-48c9-9af6-37a6c1447ac2   scared  2021-04-18 05:13:58  \n",
       "4  34e8add9-0206-47fd-a501-037b994650a2  disgust  2021-01-06 19:13:01  "
      ]
     },
     "execution_count": 4,
     "metadata": {},
     "output_type": "execute_result"
    }
   ],
   "source": [
    "reaction_db.head()"
   ]
  },
  {
   "cell_type": "code",
   "execution_count": 5,
   "id": "d57f8739-b78e-4d3e-9e87-5eae03d8ba64",
   "metadata": {
    "tags": []
   },
   "outputs": [
    {
     "data": {
      "text/html": [
       "<div>\n",
       "<style scoped>\n",
       "    .dataframe tbody tr th:only-of-type {\n",
       "        vertical-align: middle;\n",
       "    }\n",
       "\n",
       "    .dataframe tbody tr th {\n",
       "        vertical-align: top;\n",
       "    }\n",
       "\n",
       "    .dataframe thead th {\n",
       "        text-align: right;\n",
       "    }\n",
       "</style>\n",
       "<table border=\"1\" class=\"dataframe\">\n",
       "  <thead>\n",
       "    <tr style=\"text-align: right;\">\n",
       "      <th></th>\n",
       "      <th>Unnamed: 0</th>\n",
       "      <th>Type</th>\n",
       "      <th>Sentiment</th>\n",
       "      <th>Score</th>\n",
       "    </tr>\n",
       "  </thead>\n",
       "  <tbody>\n",
       "    <tr>\n",
       "      <th>0</th>\n",
       "      <td>0</td>\n",
       "      <td>heart</td>\n",
       "      <td>positive</td>\n",
       "      <td>60</td>\n",
       "    </tr>\n",
       "    <tr>\n",
       "      <th>1</th>\n",
       "      <td>1</td>\n",
       "      <td>want</td>\n",
       "      <td>positive</td>\n",
       "      <td>70</td>\n",
       "    </tr>\n",
       "    <tr>\n",
       "      <th>2</th>\n",
       "      <td>2</td>\n",
       "      <td>disgust</td>\n",
       "      <td>negative</td>\n",
       "      <td>0</td>\n",
       "    </tr>\n",
       "    <tr>\n",
       "      <th>3</th>\n",
       "      <td>3</td>\n",
       "      <td>hate</td>\n",
       "      <td>negative</td>\n",
       "      <td>5</td>\n",
       "    </tr>\n",
       "    <tr>\n",
       "      <th>4</th>\n",
       "      <td>4</td>\n",
       "      <td>interested</td>\n",
       "      <td>positive</td>\n",
       "      <td>30</td>\n",
       "    </tr>\n",
       "  </tbody>\n",
       "</table>\n",
       "</div>"
      ],
      "text/plain": [
       "   Unnamed: 0        Type Sentiment  Score\n",
       "0           0       heart  positive     60\n",
       "1           1        want  positive     70\n",
       "2           2     disgust  negative      0\n",
       "3           3        hate  negative      5\n",
       "4           4  interested  positive     30"
      ]
     },
     "execution_count": 5,
     "metadata": {},
     "output_type": "execute_result"
    }
   ],
   "source": [
    "reactiontype_db.head()"
   ]
  },
  {
   "cell_type": "markdown",
   "id": "d514e02c-8452-4c58-914c-36e20caf71b4",
   "metadata": {},
   "source": [
    "# Cleaning Our Dataset"
   ]
  },
  {
   "cell_type": "markdown",
   "id": "363f5dab-3431-4962-af14-8b67f2964059",
   "metadata": {},
   "source": [
    "## First : clean the Content Dataset"
   ]
  },
  {
   "cell_type": "code",
   "execution_count": 6,
   "id": "87f9dcde-d0fc-4677-93d4-dae4646f4045",
   "metadata": {
    "tags": []
   },
   "outputs": [
    {
     "data": {
      "text/plain": [
       "Index(['Unnamed: 0', 'Content ID', 'User ID', 'Type', 'Category', 'URL'], dtype='object')"
      ]
     },
     "execution_count": 6,
     "metadata": {},
     "output_type": "execute_result"
    }
   ],
   "source": [
    "content_db.columns"
   ]
  },
  {
   "cell_type": "markdown",
   "id": "38467305-3e0b-4eda-b5e8-db2cac78cbb2",
   "metadata": {},
   "source": [
    "### we will drop The URL column because it will not provide any insights or assist in our current analysis. and the Unnamed column and it's an index column and the python done it already and UserID it will not effect our analysis and we renamed the column type with content type to better identifying it "
   ]
  },
  {
   "cell_type": "code",
   "execution_count": 7,
   "id": "c7929c82-124e-4e80-a03b-ae6e5061cbda",
   "metadata": {
    "tags": []
   },
   "outputs": [
    {
     "data": {
      "text/html": [
       "<div>\n",
       "<style scoped>\n",
       "    .dataframe tbody tr th:only-of-type {\n",
       "        vertical-align: middle;\n",
       "    }\n",
       "\n",
       "    .dataframe tbody tr th {\n",
       "        vertical-align: top;\n",
       "    }\n",
       "\n",
       "    .dataframe thead th {\n",
       "        text-align: right;\n",
       "    }\n",
       "</style>\n",
       "<table border=\"1\" class=\"dataframe\">\n",
       "  <thead>\n",
       "    <tr style=\"text-align: right;\">\n",
       "      <th></th>\n",
       "      <th>Content ID</th>\n",
       "      <th>content type</th>\n",
       "      <th>Category</th>\n",
       "    </tr>\n",
       "  </thead>\n",
       "  <tbody>\n",
       "    <tr>\n",
       "      <th>0</th>\n",
       "      <td>97522e57-d9ab-4bd6-97bf-c24d952602d2</td>\n",
       "      <td>photo</td>\n",
       "      <td>Studying</td>\n",
       "    </tr>\n",
       "    <tr>\n",
       "      <th>1</th>\n",
       "      <td>9f737e0a-3cdd-4d29-9d24-753f4e3be810</td>\n",
       "      <td>photo</td>\n",
       "      <td>healthy eating</td>\n",
       "    </tr>\n",
       "    <tr>\n",
       "      <th>2</th>\n",
       "      <td>230c4e4d-70c3-461d-b42c-ec09396efb3f</td>\n",
       "      <td>photo</td>\n",
       "      <td>healthy eating</td>\n",
       "    </tr>\n",
       "    <tr>\n",
       "      <th>3</th>\n",
       "      <td>356fff80-da4d-4785-9f43-bc1261031dc6</td>\n",
       "      <td>photo</td>\n",
       "      <td>technology</td>\n",
       "    </tr>\n",
       "    <tr>\n",
       "      <th>4</th>\n",
       "      <td>01ab84dd-6364-4236-abbb-3f237db77180</td>\n",
       "      <td>video</td>\n",
       "      <td>food</td>\n",
       "    </tr>\n",
       "  </tbody>\n",
       "</table>\n",
       "</div>"
      ],
      "text/plain": [
       "                             Content ID content type        Category\n",
       "0  97522e57-d9ab-4bd6-97bf-c24d952602d2        photo        Studying\n",
       "1  9f737e0a-3cdd-4d29-9d24-753f4e3be810        photo  healthy eating\n",
       "2  230c4e4d-70c3-461d-b42c-ec09396efb3f        photo  healthy eating\n",
       "3  356fff80-da4d-4785-9f43-bc1261031dc6        photo      technology\n",
       "4  01ab84dd-6364-4236-abbb-3f237db77180        video            food"
      ]
     },
     "execution_count": 7,
     "metadata": {},
     "output_type": "execute_result"
    }
   ],
   "source": [
    "columns_to_drop =['Unnamed: 0','URL','User ID']\n",
    "content_db = content_db.drop(columns=columns_to_drop)\n",
    "content_db.rename(columns = {'Type':'content type'}, inplace = True)\n",
    "content_db.head()"
   ]
  },
  {
   "cell_type": "code",
   "execution_count": 8,
   "id": "c0e65be7-5a78-4786-b0f5-5eea47ffbbd2",
   "metadata": {
    "tags": []
   },
   "outputs": [
    {
     "name": "stdout",
     "output_type": "stream",
     "text": [
      "['photo' 'video' 'GIF' 'audio']\n",
      "['Studying' 'healthy eating' 'technology' 'food' 'cooking' 'dogs' 'soccer'\n",
      " 'public speaking' 'science' 'tennis' 'travel' 'fitness' 'education'\n",
      " 'studying' 'veganism' 'Animals' 'animals' 'culture' '\"culture\"' 'Fitness'\n",
      " '\"studying\"' 'Veganism' '\"animals\"' 'Travel' '\"soccer\"' 'Education'\n",
      " '\"dogs\"' 'Technology' 'Soccer' '\"tennis\"' 'Culture' '\"food\"' 'Food'\n",
      " '\"technology\"' 'Healthy Eating' '\"cooking\"' 'Science' '\"public speaking\"'\n",
      " '\"veganism\"' 'Public Speaking' '\"science\"']\n"
     ]
    }
   ],
   "source": [
    "print(content_db[\"content type\"].unique())\n",
    "print(content_db[\"Category\"].unique())"
   ]
  },
  {
   "cell_type": "markdown",
   "id": "ffd33825-f585-4a65-ae50-b3dc3b6da69d",
   "metadata": {},
   "source": [
    "### we found that some values has written between (\"\")and some are not . we will replace the (double quotation mark) with nothing \n"
   ]
  },
  {
   "cell_type": "code",
   "execution_count": 9,
   "id": "ed4af44e-a068-4539-be1c-d651bf190ad3",
   "metadata": {
    "tags": []
   },
   "outputs": [
    {
     "name": "stdout",
     "output_type": "stream",
     "text": [
      "['Studying' 'healthy eating' 'technology' 'food' 'cooking' 'dogs' 'soccer'\n",
      " 'public speaking' 'science' 'tennis' 'travel' 'fitness' 'education'\n",
      " 'studying' 'veganism' 'Animals' 'animals' 'culture' 'Fitness' 'Veganism'\n",
      " 'Travel' 'Education' 'Technology' 'Soccer' 'Culture' 'Food'\n",
      " 'Healthy Eating' 'Science' 'Public Speaking']\n"
     ]
    }
   ],
   "source": [
    "content_db[\"Category\"] = content_db[\"Category\"].replace('\"', '', regex=True)\n",
    "print(content_db[\"Category\"].unique())"
   ]
  },
  {
   "cell_type": "markdown",
   "id": "de7ed80a-2c07-4116-b6d3-e5fac0e345ca",
   "metadata": {},
   "source": [
    "### we also found that the same data beginning with capital letter once and in small letter once "
   ]
  },
  {
   "cell_type": "code",
   "execution_count": 10,
   "id": "f885332e-ec97-48ff-8066-9090b0acd423",
   "metadata": {
    "tags": []
   },
   "outputs": [
    {
     "name": "stdout",
     "output_type": "stream",
     "text": [
      "['Studying' 'Healthy eating' 'Technology' 'Food' 'Cooking' 'Dogs' 'Soccer'\n",
      " 'Public speaking' 'Science' 'Tennis' 'Travel' 'Fitness' 'Education'\n",
      " 'Veganism' 'Animals' 'Culture']\n"
     ]
    }
   ],
   "source": [
    "content_db[\"Category\"] = content_db[\"Category\"].str.capitalize()\n",
    "print(content_db[\"Category\"].unique())"
   ]
  },
  {
   "cell_type": "markdown",
   "id": "bfc72375-3d0f-454b-bc99-a7353fffd21b",
   "metadata": {},
   "source": [
    "## Strat Searching about the Null values in coulmns"
   ]
  },
  {
   "cell_type": "code",
   "execution_count": 11,
   "id": "792a1ea9-6899-4c76-890c-ca9ac44faf87",
   "metadata": {
    "tags": []
   },
   "outputs": [
    {
     "data": {
      "text/plain": [
       "Content ID      0\n",
       "content type    0\n",
       "Category        0\n",
       "dtype: int64"
      ]
     },
     "execution_count": 11,
     "metadata": {},
     "output_type": "execute_result"
    }
   ],
   "source": [
    "content_db.isna().sum()"
   ]
  },
  {
   "cell_type": "markdown",
   "id": "2217460d-09a0-49a1-ac4c-25f0ffa2f965",
   "metadata": {},
   "source": [
    "### Now it seems great we finish cleaning this Dataset\n",
    "## Start cleaning the Reactions Dataset"
   ]
  },
  {
   "cell_type": "code",
   "execution_count": 12,
   "id": "147df480-d012-4bfa-bf82-8fc594063a15",
   "metadata": {
    "tags": []
   },
   "outputs": [
    {
     "data": {
      "text/plain": [
       "Index(['Unnamed: 0', 'Content ID', 'User ID', 'Type', 'Datetime'], dtype='object')"
      ]
     },
     "execution_count": 12,
     "metadata": {},
     "output_type": "execute_result"
    }
   ],
   "source": [
    "reaction_db.columns"
   ]
  },
  {
   "cell_type": "markdown",
   "id": "1a76a122-d11e-4f30-a456-9a2bdb92904a",
   "metadata": {},
   "source": [
    "### We will drop the Unnamed column becuase it's an index column and the python done it already and UserID it will not effect our analysis"
   ]
  },
  {
   "cell_type": "code",
   "execution_count": 13,
   "id": "24887909-d4bf-4e04-ac83-518b9a47ce39",
   "metadata": {
    "tags": []
   },
   "outputs": [
    {
     "data": {
      "text/html": [
       "<div>\n",
       "<style scoped>\n",
       "    .dataframe tbody tr th:only-of-type {\n",
       "        vertical-align: middle;\n",
       "    }\n",
       "\n",
       "    .dataframe tbody tr th {\n",
       "        vertical-align: top;\n",
       "    }\n",
       "\n",
       "    .dataframe thead th {\n",
       "        text-align: right;\n",
       "    }\n",
       "</style>\n",
       "<table border=\"1\" class=\"dataframe\">\n",
       "  <thead>\n",
       "    <tr style=\"text-align: right;\">\n",
       "      <th></th>\n",
       "      <th>Content ID</th>\n",
       "      <th>Type</th>\n",
       "      <th>Datetime</th>\n",
       "    </tr>\n",
       "  </thead>\n",
       "  <tbody>\n",
       "    <tr>\n",
       "      <th>0</th>\n",
       "      <td>97522e57-d9ab-4bd6-97bf-c24d952602d2</td>\n",
       "      <td>NaN</td>\n",
       "      <td>2021-04-22 15:17:15</td>\n",
       "    </tr>\n",
       "    <tr>\n",
       "      <th>1</th>\n",
       "      <td>97522e57-d9ab-4bd6-97bf-c24d952602d2</td>\n",
       "      <td>disgust</td>\n",
       "      <td>2020-11-07 09:43:50</td>\n",
       "    </tr>\n",
       "    <tr>\n",
       "      <th>2</th>\n",
       "      <td>97522e57-d9ab-4bd6-97bf-c24d952602d2</td>\n",
       "      <td>dislike</td>\n",
       "      <td>2021-06-17 12:22:51</td>\n",
       "    </tr>\n",
       "    <tr>\n",
       "      <th>3</th>\n",
       "      <td>97522e57-d9ab-4bd6-97bf-c24d952602d2</td>\n",
       "      <td>scared</td>\n",
       "      <td>2021-04-18 05:13:58</td>\n",
       "    </tr>\n",
       "    <tr>\n",
       "      <th>4</th>\n",
       "      <td>97522e57-d9ab-4bd6-97bf-c24d952602d2</td>\n",
       "      <td>disgust</td>\n",
       "      <td>2021-01-06 19:13:01</td>\n",
       "    </tr>\n",
       "  </tbody>\n",
       "</table>\n",
       "</div>"
      ],
      "text/plain": [
       "                             Content ID     Type             Datetime\n",
       "0  97522e57-d9ab-4bd6-97bf-c24d952602d2      NaN  2021-04-22 15:17:15\n",
       "1  97522e57-d9ab-4bd6-97bf-c24d952602d2  disgust  2020-11-07 09:43:50\n",
       "2  97522e57-d9ab-4bd6-97bf-c24d952602d2  dislike  2021-06-17 12:22:51\n",
       "3  97522e57-d9ab-4bd6-97bf-c24d952602d2   scared  2021-04-18 05:13:58\n",
       "4  97522e57-d9ab-4bd6-97bf-c24d952602d2  disgust  2021-01-06 19:13:01"
      ]
     },
     "execution_count": 13,
     "metadata": {},
     "output_type": "execute_result"
    }
   ],
   "source": [
    "columns_to_drop =['Unnamed: 0','User ID']\n",
    "reaction_db = reaction_db.drop(columns=columns_to_drop)\n",
    "reaction_db.head()"
   ]
  },
  {
   "cell_type": "markdown",
   "id": "9b3d6f4a-df1f-4d4a-a7a4-701118bb8107",
   "metadata": {},
   "source": [
    "### we change the column name to don't match the column \"Type\" in Content dataset and we will change the name of thr type column in the reactiontype dataset for easy joining the data on these column"
   ]
  },
  {
   "cell_type": "code",
   "execution_count": 14,
   "id": "141bc04d-e646-4835-9958-de500b6d480b",
   "metadata": {
    "tags": []
   },
   "outputs": [],
   "source": [
    "reaction_db.rename(columns = {'Type':'reaction type'}, inplace = True)"
   ]
  },
  {
   "cell_type": "markdown",
   "id": "9c72a2a5-5047-4770-a2db-802316493dfc",
   "metadata": {},
   "source": [
    "### We should know the type of each column"
   ]
  },
  {
   "cell_type": "code",
   "execution_count": 15,
   "id": "5557bb1a-b793-4024-a3d8-57e3901017d8",
   "metadata": {
    "tags": []
   },
   "outputs": [
    {
     "data": {
      "text/plain": [
       "Content ID       object\n",
       "reaction type    object\n",
       "Datetime         object\n",
       "dtype: object"
      ]
     },
     "execution_count": 15,
     "metadata": {},
     "output_type": "execute_result"
    }
   ],
   "source": [
    "reaction_db.dtypes"
   ]
  },
  {
   "cell_type": "markdown",
   "id": "a2eaae35-b76c-45cd-8d47-35fb503e8fa1",
   "metadata": {},
   "source": [
    "### we should change the dtype of Datetime to Date "
   ]
  },
  {
   "cell_type": "code",
   "execution_count": 16,
   "id": "eac34d17-7f54-4672-ae5c-a42fe2319270",
   "metadata": {
    "tags": []
   },
   "outputs": [
    {
     "data": {
      "text/plain": [
       "Content ID               object\n",
       "reaction type            object\n",
       "Datetime         datetime64[ns]\n",
       "dtype: object"
      ]
     },
     "execution_count": 16,
     "metadata": {},
     "output_type": "execute_result"
    }
   ],
   "source": [
    "reaction_db[\"Datetime\"] = pd.to_datetime(reaction_db[\"Datetime\"])\n",
    "reaction_db.dtypes"
   ]
  },
  {
   "cell_type": "markdown",
   "id": "c9745ba4-7f14-4d10-b140-f2b51fc587e5",
   "metadata": {},
   "source": [
    "### we sould split the Data in another column makes it's easy for analysis"
   ]
  },
  {
   "cell_type": "code",
   "execution_count": 17,
   "id": "b83f54f3-5c4a-46eb-9e2c-15de59812ba5",
   "metadata": {
    "tags": []
   },
   "outputs": [
    {
     "data": {
      "text/plain": [
       "Content ID               object\n",
       "reaction type            object\n",
       "Datetime         datetime64[ns]\n",
       "Date             datetime64[ns]\n",
       "dtype: object"
      ]
     },
     "execution_count": 17,
     "metadata": {},
     "output_type": "execute_result"
    }
   ],
   "source": [
    "reaction_db[\"Date\"] = reaction_db[\"Datetime\"].dt.date\n",
    "reaction_db['Date'] = pd.to_datetime(reaction_db['Date'])\n",
    "reaction_db.dtypes"
   ]
  },
  {
   "cell_type": "code",
   "execution_count": 18,
   "id": "19d42e09-c8d9-4ae0-8e2e-420a05de1897",
   "metadata": {
    "tags": []
   },
   "outputs": [
    {
     "data": {
      "text/plain": [
       "array([nan, 'disgust', 'dislike', 'scared', 'interested', 'peeking',\n",
       "       'cherish', 'hate', 'love', 'indifferent', 'super love',\n",
       "       'intrigued', 'worried', 'like', 'heart', 'want', 'adore'],\n",
       "      dtype=object)"
      ]
     },
     "execution_count": 18,
     "metadata": {},
     "output_type": "execute_result"
    }
   ],
   "source": [
    "reaction_db['reaction type'].unique()"
   ]
  },
  {
   "cell_type": "markdown",
   "id": "c5883d44-046a-44b6-b4bb-93163633486e",
   "metadata": {},
   "source": [
    "### It seems the Values it ok but we found it has a null values\n",
    "## We searching for the null values"
   ]
  },
  {
   "cell_type": "code",
   "execution_count": 19,
   "id": "f79e6d1f-020e-4e03-b6fe-334ede0d6810",
   "metadata": {
    "tags": []
   },
   "outputs": [
    {
     "data": {
      "text/plain": [
       "Content ID         0\n",
       "reaction type    980\n",
       "Datetime           0\n",
       "Date               0\n",
       "dtype: int64"
      ]
     },
     "execution_count": 19,
     "metadata": {},
     "output_type": "execute_result"
    }
   ],
   "source": [
    "reaction_db.isna().sum()"
   ]
  },
  {
   "cell_type": "markdown",
   "id": "cb8a88b2-e512-485b-a97a-c53eb03721c8",
   "metadata": {
    "tags": []
   },
   "source": [
    "### At first we  calculated as the threshold. and it's 5% of the total number of rows and it's the maximum number of missing values that a column can have before it is dropped from the DataFrame"
   ]
  },
  {
   "cell_type": "code",
   "execution_count": 20,
   "id": "ec286929-35bb-4cac-ada3-9010d919a1dd",
   "metadata": {
    "tags": []
   },
   "outputs": [
    {
     "name": "stdout",
     "output_type": "stream",
     "text": [
      "threhold :  1277.65\n"
     ]
    },
    {
     "data": {
      "text/plain": [
       "Content ID       0\n",
       "reaction type    0\n",
       "Datetime         0\n",
       "Date             0\n",
       "dtype: int64"
      ]
     },
     "execution_count": 20,
     "metadata": {},
     "output_type": "execute_result"
    }
   ],
   "source": [
    "threhold = len(reaction_db) * 0.05\n",
    "print(\"threhold : \",threhold)\n",
    "cols_to_drop = reaction_db.columns[reaction_db.isna().sum() <= threhold ]\n",
    "reaction_db.dropna(subset=cols_to_drop,inplace=True)\n",
    "reaction_db.isna().sum()"
   ]
  },
  {
   "cell_type": "markdown",
   "id": "ccb1d914-c734-41cf-a7d7-233582908268",
   "metadata": {},
   "source": [
    "### it seems we now handle all the null values\n",
    "## Start cleaning the Reactionstype Dataset"
   ]
  },
  {
   "cell_type": "code",
   "execution_count": 21,
   "id": "c99d89a8-f2e8-48cc-8ea3-1612cd861433",
   "metadata": {
    "tags": []
   },
   "outputs": [
    {
     "data": {
      "text/plain": [
       "Index(['Unnamed: 0', 'Type', 'Sentiment', 'Score'], dtype='object')"
      ]
     },
     "execution_count": 21,
     "metadata": {},
     "output_type": "execute_result"
    }
   ],
   "source": [
    "reactiontype_db.columns"
   ]
  },
  {
   "cell_type": "markdown",
   "id": "66dee28c-224e-471f-ada7-824c4b017584",
   "metadata": {},
   "source": [
    "### We will drop the \"Unnamed\" column becuase it's an index column and the python done it already and changing the column \"type\" name "
   ]
  },
  {
   "cell_type": "code",
   "execution_count": 22,
   "id": "905c7894-7106-4d83-88e8-865757f8dd13",
   "metadata": {
    "tags": []
   },
   "outputs": [
    {
     "data": {
      "text/plain": [
       "Index(['reaction type', 'Sentiment', 'Score'], dtype='object')"
      ]
     },
     "execution_count": 22,
     "metadata": {},
     "output_type": "execute_result"
    }
   ],
   "source": [
    "columns_to_drop =['Unnamed: 0']\n",
    "reactiontype_db = reactiontype_db.drop(columns=columns_to_drop)\n",
    "reactiontype_db.rename(columns = {'Type':'reaction type'}, inplace = True)\n",
    "reactiontype_db.columns"
   ]
  },
  {
   "cell_type": "code",
   "execution_count": 23,
   "id": "7a780ba4-679b-47c3-b549-278b53363c5f",
   "metadata": {
    "tags": []
   },
   "outputs": [
    {
     "data": {
      "text/plain": [
       "reaction type    object\n",
       "Sentiment        object\n",
       "Score             int64\n",
       "dtype: object"
      ]
     },
     "execution_count": 23,
     "metadata": {},
     "output_type": "execute_result"
    }
   ],
   "source": [
    "reactiontype_db.dtypes"
   ]
  },
  {
   "cell_type": "code",
   "execution_count": 24,
   "id": "3e2adf47-f585-43d6-b8dc-866b12d6cbdc",
   "metadata": {
    "tags": []
   },
   "outputs": [
    {
     "name": "stdout",
     "output_type": "stream",
     "text": [
      "Types : ['heart' 'want' 'disgust' 'hate' 'interested' 'indifferent' 'love'\n",
      " 'super love' 'cherish' 'adore' 'like' 'dislike' 'intrigued' 'peeking'\n",
      " 'scared' 'worried']\n",
      "Sentiments : ['positive' 'negative' 'neutral']\n",
      "Scores : [60 70  0  5 30 20 65 75 72 50 10 45 35 15 12]\n"
     ]
    }
   ],
   "source": [
    "print(\"Types :\",reactiontype_db['reaction type'].unique())\n",
    "print(\"Sentiments :\",reactiontype_db['Sentiment'].unique())\n",
    "print(\"Scores :\",reactiontype_db['Score'].unique())"
   ]
  },
  {
   "cell_type": "markdown",
   "id": "353f2baf-ec29-4be6-a17a-16baa0a609d5",
   "metadata": {},
   "source": [
    "## It seems everything is ok we finish cleaning our Datasets"
   ]
  },
  {
   "cell_type": "markdown",
   "id": "51ff229a-9df4-44c3-9241-b769adf4adab",
   "metadata": {},
   "source": [
    "# Joining our Datasets"
   ]
  },
  {
   "cell_type": "markdown",
   "id": "9d02acac-972a-4e02-be4a-9359f62856b1",
   "metadata": {},
   "source": [
    "## Making a new dataset result joining the Dataset reaction_db with content_db on the Content ID as the an unique identifier in these dataset"
   ]
  },
  {
   "cell_type": "code",
   "execution_count": 25,
   "id": "ab752464-743a-4940-b4d6-0fb8e6e71162",
   "metadata": {
    "tags": []
   },
   "outputs": [
    {
     "data": {
      "text/html": [
       "<div>\n",
       "<style scoped>\n",
       "    .dataframe tbody tr th:only-of-type {\n",
       "        vertical-align: middle;\n",
       "    }\n",
       "\n",
       "    .dataframe tbody tr th {\n",
       "        vertical-align: top;\n",
       "    }\n",
       "\n",
       "    .dataframe thead th {\n",
       "        text-align: right;\n",
       "    }\n",
       "</style>\n",
       "<table border=\"1\" class=\"dataframe\">\n",
       "  <thead>\n",
       "    <tr style=\"text-align: right;\">\n",
       "      <th></th>\n",
       "      <th>Content ID</th>\n",
       "      <th>reaction type</th>\n",
       "      <th>Datetime</th>\n",
       "      <th>Date</th>\n",
       "      <th>content type</th>\n",
       "      <th>Category</th>\n",
       "    </tr>\n",
       "  </thead>\n",
       "  <tbody>\n",
       "    <tr>\n",
       "      <th>0</th>\n",
       "      <td>97522e57-d9ab-4bd6-97bf-c24d952602d2</td>\n",
       "      <td>disgust</td>\n",
       "      <td>2020-11-07 09:43:50</td>\n",
       "      <td>2020-11-07</td>\n",
       "      <td>photo</td>\n",
       "      <td>Studying</td>\n",
       "    </tr>\n",
       "    <tr>\n",
       "      <th>1</th>\n",
       "      <td>97522e57-d9ab-4bd6-97bf-c24d952602d2</td>\n",
       "      <td>dislike</td>\n",
       "      <td>2021-06-17 12:22:51</td>\n",
       "      <td>2021-06-17</td>\n",
       "      <td>photo</td>\n",
       "      <td>Studying</td>\n",
       "    </tr>\n",
       "    <tr>\n",
       "      <th>2</th>\n",
       "      <td>97522e57-d9ab-4bd6-97bf-c24d952602d2</td>\n",
       "      <td>scared</td>\n",
       "      <td>2021-04-18 05:13:58</td>\n",
       "      <td>2021-04-18</td>\n",
       "      <td>photo</td>\n",
       "      <td>Studying</td>\n",
       "    </tr>\n",
       "    <tr>\n",
       "      <th>3</th>\n",
       "      <td>97522e57-d9ab-4bd6-97bf-c24d952602d2</td>\n",
       "      <td>disgust</td>\n",
       "      <td>2021-01-06 19:13:01</td>\n",
       "      <td>2021-01-06</td>\n",
       "      <td>photo</td>\n",
       "      <td>Studying</td>\n",
       "    </tr>\n",
       "    <tr>\n",
       "      <th>4</th>\n",
       "      <td>97522e57-d9ab-4bd6-97bf-c24d952602d2</td>\n",
       "      <td>interested</td>\n",
       "      <td>2020-08-23 12:25:58</td>\n",
       "      <td>2020-08-23</td>\n",
       "      <td>photo</td>\n",
       "      <td>Studying</td>\n",
       "    </tr>\n",
       "  </tbody>\n",
       "</table>\n",
       "</div>"
      ],
      "text/plain": [
       "                             Content ID reaction type            Datetime   \n",
       "0  97522e57-d9ab-4bd6-97bf-c24d952602d2       disgust 2020-11-07 09:43:50  \\\n",
       "1  97522e57-d9ab-4bd6-97bf-c24d952602d2       dislike 2021-06-17 12:22:51   \n",
       "2  97522e57-d9ab-4bd6-97bf-c24d952602d2        scared 2021-04-18 05:13:58   \n",
       "3  97522e57-d9ab-4bd6-97bf-c24d952602d2       disgust 2021-01-06 19:13:01   \n",
       "4  97522e57-d9ab-4bd6-97bf-c24d952602d2    interested 2020-08-23 12:25:58   \n",
       "\n",
       "        Date content type  Category  \n",
       "0 2020-11-07        photo  Studying  \n",
       "1 2021-06-17        photo  Studying  \n",
       "2 2021-04-18        photo  Studying  \n",
       "3 2021-01-06        photo  Studying  \n",
       "4 2020-08-23        photo  Studying  "
      ]
     },
     "execution_count": 25,
     "metadata": {},
     "output_type": "execute_result"
    }
   ],
   "source": [
    "joining_first = pd.merge(reaction_db, content_db, on='Content ID')\n",
    "joining_first.head()"
   ]
  },
  {
   "cell_type": "markdown",
   "id": "f2ba273a-9951-44a8-bf95-20d6c5e7d128",
   "metadata": {},
   "source": [
    "## joining our new dataset with the Dataset reactiontype_db on the reaction type as an unique identifier"
   ]
  },
  {
   "cell_type": "code",
   "execution_count": 26,
   "id": "20c0daa4-ce4b-4ed6-a3a8-88b8e02a1319",
   "metadata": {
    "tags": []
   },
   "outputs": [],
   "source": [
    "analysis_dataset = pd.merge(joining_first ,reactiontype_db,on='reaction type')"
   ]
  },
  {
   "cell_type": "code",
   "execution_count": 27,
   "id": "0bfdc9e8-4f60-4d18-a14b-ba9e0555ebfa",
   "metadata": {
    "tags": []
   },
   "outputs": [
    {
     "data": {
      "text/html": [
       "<div>\n",
       "<style scoped>\n",
       "    .dataframe tbody tr th:only-of-type {\n",
       "        vertical-align: middle;\n",
       "    }\n",
       "\n",
       "    .dataframe tbody tr th {\n",
       "        vertical-align: top;\n",
       "    }\n",
       "\n",
       "    .dataframe thead th {\n",
       "        text-align: right;\n",
       "    }\n",
       "</style>\n",
       "<table border=\"1\" class=\"dataframe\">\n",
       "  <thead>\n",
       "    <tr style=\"text-align: right;\">\n",
       "      <th></th>\n",
       "      <th>Content ID</th>\n",
       "      <th>reaction type</th>\n",
       "      <th>Datetime</th>\n",
       "      <th>Date</th>\n",
       "      <th>content type</th>\n",
       "      <th>Category</th>\n",
       "      <th>Sentiment</th>\n",
       "      <th>Score</th>\n",
       "    </tr>\n",
       "  </thead>\n",
       "  <tbody>\n",
       "    <tr>\n",
       "      <th>0</th>\n",
       "      <td>97522e57-d9ab-4bd6-97bf-c24d952602d2</td>\n",
       "      <td>disgust</td>\n",
       "      <td>2020-11-07 09:43:50</td>\n",
       "      <td>2020-11-07</td>\n",
       "      <td>photo</td>\n",
       "      <td>Studying</td>\n",
       "      <td>negative</td>\n",
       "      <td>0</td>\n",
       "    </tr>\n",
       "    <tr>\n",
       "      <th>1</th>\n",
       "      <td>97522e57-d9ab-4bd6-97bf-c24d952602d2</td>\n",
       "      <td>disgust</td>\n",
       "      <td>2021-01-06 19:13:01</td>\n",
       "      <td>2021-01-06</td>\n",
       "      <td>photo</td>\n",
       "      <td>Studying</td>\n",
       "      <td>negative</td>\n",
       "      <td>0</td>\n",
       "    </tr>\n",
       "    <tr>\n",
       "      <th>2</th>\n",
       "      <td>97522e57-d9ab-4bd6-97bf-c24d952602d2</td>\n",
       "      <td>disgust</td>\n",
       "      <td>2021-04-09 02:46:20</td>\n",
       "      <td>2021-04-09</td>\n",
       "      <td>photo</td>\n",
       "      <td>Studying</td>\n",
       "      <td>negative</td>\n",
       "      <td>0</td>\n",
       "    </tr>\n",
       "    <tr>\n",
       "      <th>3</th>\n",
       "      <td>9f737e0a-3cdd-4d29-9d24-753f4e3be810</td>\n",
       "      <td>disgust</td>\n",
       "      <td>2021-03-28 21:15:26</td>\n",
       "      <td>2021-03-28</td>\n",
       "      <td>photo</td>\n",
       "      <td>Healthy eating</td>\n",
       "      <td>negative</td>\n",
       "      <td>0</td>\n",
       "    </tr>\n",
       "    <tr>\n",
       "      <th>4</th>\n",
       "      <td>230c4e4d-70c3-461d-b42c-ec09396efb3f</td>\n",
       "      <td>disgust</td>\n",
       "      <td>2020-08-04 05:40:33</td>\n",
       "      <td>2020-08-04</td>\n",
       "      <td>photo</td>\n",
       "      <td>Healthy eating</td>\n",
       "      <td>negative</td>\n",
       "      <td>0</td>\n",
       "    </tr>\n",
       "  </tbody>\n",
       "</table>\n",
       "</div>"
      ],
      "text/plain": [
       "                             Content ID reaction type            Datetime   \n",
       "0  97522e57-d9ab-4bd6-97bf-c24d952602d2       disgust 2020-11-07 09:43:50  \\\n",
       "1  97522e57-d9ab-4bd6-97bf-c24d952602d2       disgust 2021-01-06 19:13:01   \n",
       "2  97522e57-d9ab-4bd6-97bf-c24d952602d2       disgust 2021-04-09 02:46:20   \n",
       "3  9f737e0a-3cdd-4d29-9d24-753f4e3be810       disgust 2021-03-28 21:15:26   \n",
       "4  230c4e4d-70c3-461d-b42c-ec09396efb3f       disgust 2020-08-04 05:40:33   \n",
       "\n",
       "        Date content type        Category Sentiment  Score  \n",
       "0 2020-11-07        photo        Studying  negative      0  \n",
       "1 2021-01-06        photo        Studying  negative      0  \n",
       "2 2021-04-09        photo        Studying  negative      0  \n",
       "3 2021-03-28        photo  Healthy eating  negative      0  \n",
       "4 2020-08-04        photo  Healthy eating  negative      0  "
      ]
     },
     "execution_count": 27,
     "metadata": {},
     "output_type": "execute_result"
    }
   ],
   "source": [
    "analysis_dataset.head()"
   ]
  },
  {
   "cell_type": "markdown",
   "id": "86c6df15-d159-4221-8341-dd0b6de75c1d",
   "metadata": {
    "tags": []
   },
   "source": [
    "# Cleaning our new Dataset"
   ]
  },
  {
   "cell_type": "code",
   "execution_count": 28,
   "id": "7a71f333-e4d6-457b-9ed8-63619faeedb7",
   "metadata": {
    "tags": []
   },
   "outputs": [
    {
     "data": {
      "text/plain": [
       "Content ID       0\n",
       "reaction type    0\n",
       "Datetime         0\n",
       "Date             0\n",
       "content type     0\n",
       "Category         0\n",
       "Sentiment        0\n",
       "Score            0\n",
       "dtype: int64"
      ]
     },
     "execution_count": 28,
     "metadata": {},
     "output_type": "execute_result"
    }
   ],
   "source": [
    "analysis_dataset.isna().sum()"
   ]
  },
  {
   "cell_type": "markdown",
   "id": "16fe4048-71bf-4396-a0b6-410136c05f6a",
   "metadata": {},
   "source": [
    "## We should drop the column Datetime becuase the Date column is enough for analysis our data"
   ]
  },
  {
   "cell_type": "code",
   "execution_count": 29,
   "id": "12601d6a-d1d0-40f7-8f4b-f1779dc4bb4e",
   "metadata": {
    "tags": []
   },
   "outputs": [
    {
     "data": {
      "text/html": [
       "<div>\n",
       "<style scoped>\n",
       "    .dataframe tbody tr th:only-of-type {\n",
       "        vertical-align: middle;\n",
       "    }\n",
       "\n",
       "    .dataframe tbody tr th {\n",
       "        vertical-align: top;\n",
       "    }\n",
       "\n",
       "    .dataframe thead th {\n",
       "        text-align: right;\n",
       "    }\n",
       "</style>\n",
       "<table border=\"1\" class=\"dataframe\">\n",
       "  <thead>\n",
       "    <tr style=\"text-align: right;\">\n",
       "      <th></th>\n",
       "      <th>Content ID</th>\n",
       "      <th>reaction type</th>\n",
       "      <th>Date</th>\n",
       "      <th>content type</th>\n",
       "      <th>Category</th>\n",
       "      <th>Sentiment</th>\n",
       "      <th>Score</th>\n",
       "    </tr>\n",
       "  </thead>\n",
       "  <tbody>\n",
       "    <tr>\n",
       "      <th>0</th>\n",
       "      <td>97522e57-d9ab-4bd6-97bf-c24d952602d2</td>\n",
       "      <td>disgust</td>\n",
       "      <td>2020-11-07</td>\n",
       "      <td>photo</td>\n",
       "      <td>Studying</td>\n",
       "      <td>negative</td>\n",
       "      <td>0</td>\n",
       "    </tr>\n",
       "    <tr>\n",
       "      <th>1</th>\n",
       "      <td>97522e57-d9ab-4bd6-97bf-c24d952602d2</td>\n",
       "      <td>disgust</td>\n",
       "      <td>2021-01-06</td>\n",
       "      <td>photo</td>\n",
       "      <td>Studying</td>\n",
       "      <td>negative</td>\n",
       "      <td>0</td>\n",
       "    </tr>\n",
       "    <tr>\n",
       "      <th>2</th>\n",
       "      <td>97522e57-d9ab-4bd6-97bf-c24d952602d2</td>\n",
       "      <td>disgust</td>\n",
       "      <td>2021-04-09</td>\n",
       "      <td>photo</td>\n",
       "      <td>Studying</td>\n",
       "      <td>negative</td>\n",
       "      <td>0</td>\n",
       "    </tr>\n",
       "    <tr>\n",
       "      <th>3</th>\n",
       "      <td>9f737e0a-3cdd-4d29-9d24-753f4e3be810</td>\n",
       "      <td>disgust</td>\n",
       "      <td>2021-03-28</td>\n",
       "      <td>photo</td>\n",
       "      <td>Healthy eating</td>\n",
       "      <td>negative</td>\n",
       "      <td>0</td>\n",
       "    </tr>\n",
       "    <tr>\n",
       "      <th>4</th>\n",
       "      <td>230c4e4d-70c3-461d-b42c-ec09396efb3f</td>\n",
       "      <td>disgust</td>\n",
       "      <td>2020-08-04</td>\n",
       "      <td>photo</td>\n",
       "      <td>Healthy eating</td>\n",
       "      <td>negative</td>\n",
       "      <td>0</td>\n",
       "    </tr>\n",
       "  </tbody>\n",
       "</table>\n",
       "</div>"
      ],
      "text/plain": [
       "                             Content ID reaction type       Date content type   \n",
       "0  97522e57-d9ab-4bd6-97bf-c24d952602d2       disgust 2020-11-07        photo  \\\n",
       "1  97522e57-d9ab-4bd6-97bf-c24d952602d2       disgust 2021-01-06        photo   \n",
       "2  97522e57-d9ab-4bd6-97bf-c24d952602d2       disgust 2021-04-09        photo   \n",
       "3  9f737e0a-3cdd-4d29-9d24-753f4e3be810       disgust 2021-03-28        photo   \n",
       "4  230c4e4d-70c3-461d-b42c-ec09396efb3f       disgust 2020-08-04        photo   \n",
       "\n",
       "         Category Sentiment  Score  \n",
       "0        Studying  negative      0  \n",
       "1        Studying  negative      0  \n",
       "2        Studying  negative      0  \n",
       "3  Healthy eating  negative      0  \n",
       "4  Healthy eating  negative      0  "
      ]
     },
     "execution_count": 29,
     "metadata": {},
     "output_type": "execute_result"
    }
   ],
   "source": [
    "analysis_dataset = analysis_dataset.drop(columns=['Datetime'])\n",
    "analysis_dataset.head()"
   ]
  },
  {
   "cell_type": "markdown",
   "id": "80783fb4-d0c9-4176-b05b-2cc26ea28e50",
   "metadata": {},
   "source": [
    "# Statistical analysis "
   ]
  },
  {
   "cell_type": "code",
   "execution_count": 30,
   "id": "f703f772-1c67-4187-bd94-643a7dda2cf1",
   "metadata": {
    "tags": []
   },
   "outputs": [
    {
     "data": {
      "text/html": [
       "<div>\n",
       "<style scoped>\n",
       "    .dataframe tbody tr th:only-of-type {\n",
       "        vertical-align: middle;\n",
       "    }\n",
       "\n",
       "    .dataframe tbody tr th {\n",
       "        vertical-align: top;\n",
       "    }\n",
       "\n",
       "    .dataframe thead th {\n",
       "        text-align: right;\n",
       "    }\n",
       "</style>\n",
       "<table border=\"1\" class=\"dataframe\">\n",
       "  <thead>\n",
       "    <tr style=\"text-align: right;\">\n",
       "      <th></th>\n",
       "      <th>Date</th>\n",
       "      <th>Score</th>\n",
       "    </tr>\n",
       "  </thead>\n",
       "  <tbody>\n",
       "    <tr>\n",
       "      <th>count</th>\n",
       "      <td>24573</td>\n",
       "      <td>24573.000000</td>\n",
       "    </tr>\n",
       "    <tr>\n",
       "      <th>mean</th>\n",
       "      <td>2020-12-16 18:35:49.188133376</td>\n",
       "      <td>39.622553</td>\n",
       "    </tr>\n",
       "    <tr>\n",
       "      <th>min</th>\n",
       "      <td>2020-06-18 00:00:00</td>\n",
       "      <td>0.000000</td>\n",
       "    </tr>\n",
       "    <tr>\n",
       "      <th>25%</th>\n",
       "      <td>2020-09-16 00:00:00</td>\n",
       "      <td>15.000000</td>\n",
       "    </tr>\n",
       "    <tr>\n",
       "      <th>50%</th>\n",
       "      <td>2020-12-17 00:00:00</td>\n",
       "      <td>35.000000</td>\n",
       "    </tr>\n",
       "    <tr>\n",
       "      <th>75%</th>\n",
       "      <td>2021-03-17 00:00:00</td>\n",
       "      <td>65.000000</td>\n",
       "    </tr>\n",
       "    <tr>\n",
       "      <th>max</th>\n",
       "      <td>2021-06-18 00:00:00</td>\n",
       "      <td>75.000000</td>\n",
       "    </tr>\n",
       "    <tr>\n",
       "      <th>std</th>\n",
       "      <td>NaN</td>\n",
       "      <td>26.043011</td>\n",
       "    </tr>\n",
       "  </tbody>\n",
       "</table>\n",
       "</div>"
      ],
      "text/plain": [
       "                                Date         Score\n",
       "count                          24573  24573.000000\n",
       "mean   2020-12-16 18:35:49.188133376     39.622553\n",
       "min              2020-06-18 00:00:00      0.000000\n",
       "25%              2020-09-16 00:00:00     15.000000\n",
       "50%              2020-12-17 00:00:00     35.000000\n",
       "75%              2021-03-17 00:00:00     65.000000\n",
       "max              2021-06-18 00:00:00     75.000000\n",
       "std                              NaN     26.043011"
      ]
     },
     "execution_count": 30,
     "metadata": {},
     "output_type": "execute_result"
    }
   ],
   "source": [
    "analysis_dataset.describe()"
   ]
  },
  {
   "cell_type": "code",
   "execution_count": 31,
   "id": "ab650ef4-542b-4389-8dcc-a09bda5dd48e",
   "metadata": {
    "tags": []
   },
   "outputs": [],
   "source": [
    "analysis_dataset.to_csv(\"Data After cleaning.csv\")"
   ]
  },
  {
   "cell_type": "code",
   "execution_count": null,
   "id": "8b1af3d9-a2f9-43b2-8c3f-f0637d518147",
   "metadata": {},
   "outputs": [],
   "source": []
  }
 ],
 "metadata": {
  "kernelspec": {
   "display_name": "Python 3 (ipykernel)",
   "language": "python",
   "name": "python3"
  },
  "language_info": {
   "codemirror_mode": {
    "name": "ipython",
    "version": 3
   },
   "file_extension": ".py",
   "mimetype": "text/x-python",
   "name": "python",
   "nbconvert_exporter": "python",
   "pygments_lexer": "ipython3",
   "version": "3.9.10"
  }
 },
 "nbformat": 4,
 "nbformat_minor": 5
}
